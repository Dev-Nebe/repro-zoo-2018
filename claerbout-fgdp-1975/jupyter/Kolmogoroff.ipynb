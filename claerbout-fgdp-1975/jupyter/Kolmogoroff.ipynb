{
 "cells": [
  {
   "cell_type": "markdown",
   "metadata": {},
   "source": [
    "# Claerbout FGDP Kolmogoroff spectral factorization (min phase rearrangement)"
   ]
  },
  {
   "cell_type": "code",
   "execution_count": 34,
   "metadata": {},
   "outputs": [
    {
     "name": "stdout",
     "output_type": "stream",
     "text": [
      "[15.628452 +0.j        0.       -8.669764j -0.3715453+0.j\n",
      "  0.       -0.669765j]\n"
     ]
    }
   ],
   "source": [
    "import numpy\n",
    "def Kolmogoroff(complexFilter) :\n",
    "    N = complexFilter.shape[0]                  \n",
    "    fft1 = numpy.fft.fft(complexFilter)         # Fourier transform \n",
    "    fft2 = 0.5*numpy.log(fft1*fft1.conj())      # Form the log of the amplitude spectrum\n",
    "    fft3 = numpy.fft.ifft(fft2)                 # Begin Hilbert transform\n",
    "    Nhalf = int(N/2)                            # Leave T=0 alone\n",
    "    fft3[Nhalf+1:] = 0.0+0.0j                   # Zero values at negative time               \n",
    "    fft3[1:Nhalf] *= 2.0                        # Double values at positive time\n",
    "    fft4 = numpy.fft.fft(fft3)                  # End Hilbert transform\n",
    "    fft5 = numpy.exp(fft4)                      # Exponentiate\n",
    "    fft6 = numpy.fft.ifft(fft5)                 # Inverse transform\n",
    "    return fft6                                 # Return minimum phase filter\n",
    "#\n",
    "# FGDP test case\n",
    "#\n",
    "# In: (0.0, 0.0), (0.0, 8.0), (16.0, 0.0), (0.0, 0.0)\n",
    "#\n",
    "# Out: (15.6, -0.0), (0.0, -8.7), (-0.4, -0.0), (0.0, -0.7)\n",
    "#\n",
    "complexFilterIn = numpy.zeros((4,),dtype=numpy.complex64)\n",
    "complexFilterIn[0] = 0.0 + 0.0j\n",
    "complexFilterIn[1] = 0.0 + 8.0j\n",
    "complexFilterIn[2] = 16.0 + 0.0j\n",
    "complexFilterIn[3] = 0.0 + 0.0j\n",
    "complexFilterOut = Kolmogoroff(complexFilterIn)\n",
    "print(complexFilterOut)"
   ]
  },
  {
   "cell_type": "code",
   "execution_count": null,
   "metadata": {},
   "outputs": [],
   "source": []
  }
 ],
 "metadata": {
  "kernelspec": {
   "display_name": "Python 3",
   "language": "python",
   "name": "python3"
  },
  "language_info": {
   "codemirror_mode": {
    "name": "ipython",
    "version": 3
   },
   "file_extension": ".py",
   "mimetype": "text/x-python",
   "name": "python",
   "nbconvert_exporter": "python",
   "pygments_lexer": "ipython3",
   "version": "3.7.0"
  }
 },
 "nbformat": 4,
 "nbformat_minor": 2
}
