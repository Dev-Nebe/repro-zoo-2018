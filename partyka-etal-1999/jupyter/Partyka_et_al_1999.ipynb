{
 "cells": [
  {
   "cell_type": "code",
   "execution_count": 3,
   "metadata": {},
   "outputs": [],
   "source": [
    "# imports  \n",
    "import numpy as np\n",
    "backend='nbagg' # Use the 'nbagg' backend to render and you can zoom and pan plots.  \n",
    "backend='inline' # \n",
    "if backend=='nbagg':\n",
    "    import matplotlib\n",
    "    matplotlib.use('nbagg') # Use the 'nbagg' backend\n",
    "else:\n",
    "    # magic command to render inline\n",
    "    %matplotlib inline \n",
    "    \n",
    "#import matplotlib.pyplot must be after matplotlib.use('nbagg') \n",
    "import matplotlib.pyplot as plt"
   ]
  },
  {
   "cell_type": "markdown",
   "metadata": {},
   "source": [
    "We begin by creating a synthetic wedge model to re-create figure 4"
   ]
  },
  {
   "cell_type": "code",
   "execution_count": 24,
   "metadata": {},
   "outputs": [
    {
     "data": {
      "image/png": "[encoded data removed]",
      "text/plain": [
       "<Figure size 504x504 with 1 Axes>"
      ]
     },
     "metadata": {},
     "output_type": "display_data"
    }
   ],
   "source": [
    "# generate wedge model\n",
    "# vertical sampling parameters\n",
    "dt = 1   # ms\n",
    "to = 0   # start time\n",
    "tf = 250 # end time\n",
    "nt = (tf-to)/dt+1 # number of time samples\n",
    "\n",
    "# lateral sampling parameters\n",
    "dx = 1   # ms\n",
    "xo = 0   # start wedge\n",
    "xf = 50  # end wedge\n",
    "nx = (xf-xo)/dx+1 # number of lateral samples\n",
    "\n",
    "# reflection parameters\n",
    "# top event location\n",
    "t_top = 100\n",
    "# convert to index\n",
    "i_top = int(t_top/dt)+1\n",
    "\n",
    "# slope for reflection\n",
    "slope = 1\n",
    "# thickness of reflector\n",
    "thck = 2\n",
    "\n",
    "# initialize numpy array for wedge model as zeroes\n",
    "model = np.zeros((nx,nt),dtype='float32')\n",
    "# place positive and negative reflectivity\n",
    "for i in range(nx): \n",
    "    # place positive reflection\n",
    "    model[i,i_top-thck:i_top+thck] = 2\n",
    "    # place negative reflection\n",
    "    model[i,(i_top+i*slope)-thck:(i_top+i*slope)+thck] -= 2\n",
    "    \n",
    "# plot model\n",
    "fig = plt.figure(figsize=(7,7))\n",
    "plt.title('Wedge Model')\n",
    "plt.imshow(model.T,extent=[xo,xf,tf,to], aspect=.0625)\n",
    "plt.show()\n"
   ]
  },
  {
   "cell_type": "code",
   "execution_count": null,
   "metadata": {},
   "outputs": [],
   "source": [
    "# now we filter the wedge model\n"
   ]
  }
 ],
 "metadata": {
  "kernelspec": {
   "display_name": "Python 2",
   "language": "python",
   "name": "python2"
  },
  "language_info": {
   "codemirror_mode": {
    "name": "ipython",
    "version": 2
   },
   "file_extension": ".py",
   "mimetype": "text/x-python",
   "name": "python",
   "nbconvert_exporter": "python",
   "pygments_lexer": "ipython2",
   "version": "2.7.15"
  }
 },
 "nbformat": 4,
 "nbformat_minor": 2
}
